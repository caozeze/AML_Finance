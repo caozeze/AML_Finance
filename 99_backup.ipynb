{
 "cells": [
  {
   "cell_type": "code",
   "execution_count": null,
   "metadata": {
    "vscode": {
     "languageId": "plaintext"
    }
   },
   "outputs": [],
   "source": [
    "from sklearn.ensemble import RandomForestClassifier"
   ]
  },
  {
   "cell_type": "code",
   "execution_count": null,
   "metadata": {
    "vscode": {
     "languageId": "plaintext"
    }
   },
   "outputs": [],
   "source": [
    "model = (RandomForestClassifier(random_state=42), 'Random Forest')\n",
    "\n",
    "# Random Forest\n",
    "rf_model, rf_model_name = RandomForestClassifier(random_state=42), 'Random Forest'\n",
    "rf_model, rf_model_name, rf_results_df, rf_fold_results = train_and_find_best_model(rf_model, rf_model_name, X, y, metric='Macro F1')\n",
    "rf_model_path = save_best_model(rf_model, rf_model_name)\n",
    "# ROS\n",
    "rf_model_ros, rf_model_name_ros = RandomForestClassifier(random_state=42), 'Random Forest ROS'\n",
    "rf_model_ros, rf_model_name_ros, rf_results_ros_df, rf_fold_results_ros = train_and_find_best_model(rf_model_ros, rf_model_name_ros, X_ros, y_ros, metric='Macro F1')\n",
    "rf_model_ros_path = save_best_model(rf_model_ros, rf_model_name_ros)\n",
    "# SMOTE\n",
    "rf_model_smote, rf_model_name_smote = RandomForestClassifier(random_state=42), 'Random Forest SMOTE'\n",
    "rf_model_smote, rf_model_name_smote, rf_results_smote_df, rf_fold_results_smote = train_and_find_best_model(rf_model_smote, rf_model_name_smote, X_smote, y_smote, metric='Macro F1')\n",
    "rf_model_smote_path = save_best_model(rf_model_smote, rf_model_name_smote)"
   ]
  },
  {
   "cell_type": "code",
   "execution_count": null,
   "metadata": {
    "vscode": {
     "languageId": "plaintext"
    }
   },
   "outputs": [],
   "source": [
    "rf_results = pd.concat([rf_results_df, rf_results_ros_df, rf_results_smote_df], axis=0)"
   ]
  },
  {
   "cell_type": "code",
   "execution_count": null,
   "metadata": {
    "vscode": {
     "languageId": "plaintext"
    }
   },
   "outputs": [],
   "source": [
    "pd.DataFrame(rf_fold_results), pd.DataFrame(rf_fold_results_ros), pd.DataFrame(rf_fold_results_smote), "
   ]
  },
  {
   "cell_type": "code",
   "execution_count": null,
   "metadata": {
    "vscode": {
     "languageId": "plaintext"
    }
   },
   "outputs": [],
   "source": [
    "rf_model = joblib.load(rf_model_path)\n",
    "rf_model_ros = joblib.load(rf_model_ros_path)\n",
    "rf_model_smote = joblib.load(rf_model_smote_path)\n",
    "\n",
    "rf_results_test = evaluate_model_on_test_data(rf_model, feature, target, 'Random Forest')\n",
    "rf_results_ros_test = evaluate_model_on_test_data(rf_model_ros, feature, target, 'Random Forest ROS')\n",
    "rf_results_smote_test = evaluate_model_on_test_data(rf_model_smote, feature, target, 'Random Forest SMOTE')"
   ]
  },
  {
   "cell_type": "code",
   "execution_count": null,
   "metadata": {
    "vscode": {
     "languageId": "plaintext"
    }
   },
   "outputs": [],
   "source": [
    "rf_results_test, rf_results_ros_test, rf_results_smote_test,"
   ]
  }
 ],
 "metadata": {
  "language_info": {
   "name": "python"
  }
 },
 "nbformat": 4,
 "nbformat_minor": 2
}

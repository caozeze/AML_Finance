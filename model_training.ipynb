{
 "cells": [
  {
   "cell_type": "code",
   "execution_count": 14,
   "metadata": {},
   "outputs": [],
   "source": [
    "# 导入必要的库\n",
    "import pandas as pd\n",
    "import numpy as np\n",
    "import matplotlib.pyplot as plt\n",
    "import seaborn as sns\n",
    "\n",
    "# 导入模型相关的库\n",
    "from sklearn.linear_model import LogisticRegression\n",
    "from sklearn.ensemble import RandomForestClassifier\n",
    "import xgboost as xgb\n",
    "\n",
    "# 导入评估和交叉验证相关的库\n",
    "from sklearn.model_selection import cross_val_score, cross_validate\n",
    "from sklearn.metrics import accuracy_score, precision_score, recall_score, f1_score, confusion_matrix\n",
    "from sklearn.preprocessing import StandardScaler\n",
    "from sklearn.model_selection import StratifiedKFold\n",
    "from sklearn.metrics import accuracy_score, precision_score, recall_score, f1_score, roc_auc_score"
   ]
  },
  {
   "cell_type": "code",
   "execution_count": 19,
   "metadata": {},
   "outputs": [
    {
     "name": "stdout",
     "output_type": "stream",
     "text": [
      "<class 'pandas.core.frame.DataFrame'>\n",
      "RangeIndex: 88872 entries, 0 to 88871\n",
      "Data columns (total 46 columns):\n",
      " #   Column                       Non-Null Count  Dtype  \n",
      "---  ------                       --------------  -----  \n",
      " 0   month                        88872 non-null  int64  \n",
      " 1   age                          88872 non-null  float64\n",
      " 2   annual_income                88872 non-null  float64\n",
      " 3   monthly_inhand_salary        88872 non-null  float64\n",
      " 4   num_bank_accounts            88872 non-null  float64\n",
      " 5   num_credit_card              88872 non-null  float64\n",
      " 6   interest_rate                88872 non-null  float64\n",
      " 7   num_of_loan                  88872 non-null  float64\n",
      " 8   delay_from_due_date          88872 non-null  float64\n",
      " 9   num_of_delayed_payment       88872 non-null  float64\n",
      " 10  changed_credit_limit         88872 non-null  float64\n",
      " 11  num_credit_inquiries         88872 non-null  float64\n",
      " 12  credit_mix                   88872 non-null  int64  \n",
      " 13  outstanding_debt             88872 non-null  float64\n",
      " 14  credit_utilization_ratio     88872 non-null  float64\n",
      " 15  payment_of_min_amount        88872 non-null  int64  \n",
      " 16  total_emi_per_month          88872 non-null  float64\n",
      " 17  amount_invested_monthly      88872 non-null  float64\n",
      " 18  monthly_balance              88872 non-null  float64\n",
      " 19  credit_history_age_in_month  88872 non-null  float64\n",
      " 20  auto_loan                    88872 non-null  int64  \n",
      " 21  credit_builder_loan          88872 non-null  int64  \n",
      " 22  debt_consolidation_loan      88872 non-null  int64  \n",
      " 23  home_equity_loan             88872 non-null  int64  \n",
      " 24  mortgage_loan                88872 non-null  int64  \n",
      " 25  not_specified                88872 non-null  int64  \n",
      " 26  payday_loan                  88872 non-null  int64  \n",
      " 27  personal_loan                88872 non-null  int64  \n",
      " 28  student_loan                 88872 non-null  int64  \n",
      " 29  spending_level               88872 non-null  int64  \n",
      " 30  payment_size                 88872 non-null  int64  \n",
      " 31  occupation_Accountant        88872 non-null  bool   \n",
      " 32  occupation_Architect         88872 non-null  bool   \n",
      " 33  occupation_Developer         88872 non-null  bool   \n",
      " 34  occupation_Doctor            88872 non-null  bool   \n",
      " 35  occupation_Engineer          88872 non-null  bool   \n",
      " 36  occupation_Entrepreneur      88872 non-null  bool   \n",
      " 37  occupation_Journalist        88872 non-null  bool   \n",
      " 38  occupation_Lawyer            88872 non-null  bool   \n",
      " 39  occupation_Manager           88872 non-null  bool   \n",
      " 40  occupation_Mechanic          88872 non-null  bool   \n",
      " 41  occupation_Media_Manager     88872 non-null  bool   \n",
      " 42  occupation_Musician          88872 non-null  bool   \n",
      " 43  occupation_Scientist         88872 non-null  bool   \n",
      " 44  occupation_Teacher           88872 non-null  bool   \n",
      " 45  occupation_Writer            88872 non-null  bool   \n",
      "dtypes: bool(15), float64(17), int64(14)\n",
      "memory usage: 22.3 MB\n"
     ]
    }
   ],
   "source": [
    "# 加载数据\n",
    "train_data = pd.read_csv('data/clean_train.csv')\n",
    "test_data = pd.read_csv('data/clean_test.csv')\n",
    "\n",
    "# 准备特征和标签\n",
    "features = train_data.drop(['credit_score','Unnamed: 0'], axis=1)\n",
    "labels = train_data['credit_score']\n",
    "\n",
    "features.info()"
   ]
  },
  {
   "cell_type": "code",
   "execution_count": 15,
   "metadata": {},
   "outputs": [],
   "source": [
    "train_df = pd.read_csv('./data/clean_train.csv')\n",
    "X = train_df.drop(['credit_score','Unnamed: 0'], axis=1)\n",
    "y = train_df['credit_score']"
   ]
  },
  {
   "cell_type": "code",
   "execution_count": 17,
   "metadata": {},
   "outputs": [
    {
     "name": "stdout",
     "output_type": "stream",
     "text": [
      "<class 'pandas.core.frame.DataFrame'>\n",
      "RangeIndex: 88872 entries, 0 to 88871\n",
      "Data columns (total 46 columns):\n",
      " #   Column                       Non-Null Count  Dtype  \n",
      "---  ------                       --------------  -----  \n",
      " 0   month                        88872 non-null  int64  \n",
      " 1   age                          88872 non-null  float64\n",
      " 2   annual_income                88872 non-null  float64\n",
      " 3   monthly_inhand_salary        88872 non-null  float64\n",
      " 4   num_bank_accounts            88872 non-null  float64\n",
      " 5   num_credit_card              88872 non-null  float64\n",
      " 6   interest_rate                88872 non-null  float64\n",
      " 7   num_of_loan                  88872 non-null  float64\n",
      " 8   delay_from_due_date          88872 non-null  float64\n",
      " 9   num_of_delayed_payment       88872 non-null  float64\n",
      " 10  changed_credit_limit         88872 non-null  float64\n",
      " 11  num_credit_inquiries         88872 non-null  float64\n",
      " 12  credit_mix                   88872 non-null  int64  \n",
      " 13  outstanding_debt             88872 non-null  float64\n",
      " 14  credit_utilization_ratio     88872 non-null  float64\n",
      " 15  payment_of_min_amount        88872 non-null  int64  \n",
      " 16  total_emi_per_month          88872 non-null  float64\n",
      " 17  amount_invested_monthly      88872 non-null  float64\n",
      " 18  monthly_balance              88872 non-null  float64\n",
      " 19  credit_history_age_in_month  88872 non-null  float64\n",
      " 20  auto_loan                    88872 non-null  int64  \n",
      " 21  credit_builder_loan          88872 non-null  int64  \n",
      " 22  debt_consolidation_loan      88872 non-null  int64  \n",
      " 23  home_equity_loan             88872 non-null  int64  \n",
      " 24  mortgage_loan                88872 non-null  int64  \n",
      " 25  not_specified                88872 non-null  int64  \n",
      " 26  payday_loan                  88872 non-null  int64  \n",
      " 27  personal_loan                88872 non-null  int64  \n",
      " 28  student_loan                 88872 non-null  int64  \n",
      " 29  spending_level               88872 non-null  int64  \n",
      " 30  payment_size                 88872 non-null  int64  \n",
      " 31  occupation_Accountant        88872 non-null  bool   \n",
      " 32  occupation_Architect         88872 non-null  bool   \n",
      " 33  occupation_Developer         88872 non-null  bool   \n",
      " 34  occupation_Doctor            88872 non-null  bool   \n",
      " 35  occupation_Engineer          88872 non-null  bool   \n",
      " 36  occupation_Entrepreneur      88872 non-null  bool   \n",
      " 37  occupation_Journalist        88872 non-null  bool   \n",
      " 38  occupation_Lawyer            88872 non-null  bool   \n",
      " 39  occupation_Manager           88872 non-null  bool   \n",
      " 40  occupation_Mechanic          88872 non-null  bool   \n",
      " 41  occupation_Media_Manager     88872 non-null  bool   \n",
      " 42  occupation_Musician          88872 non-null  bool   \n",
      " 43  occupation_Scientist         88872 non-null  bool   \n",
      " 44  occupation_Teacher           88872 non-null  bool   \n",
      " 45  occupation_Writer            88872 non-null  bool   \n",
      "dtypes: bool(15), float64(17), int64(14)\n",
      "memory usage: 22.3 MB\n"
     ]
    }
   ],
   "source": [
    "X.info()"
   ]
  },
  {
   "cell_type": "code",
   "execution_count": 44,
   "metadata": {},
   "outputs": [],
   "source": [
    "# 定义评估指标\n",
    "scoring = {\n",
    "    'accuracy': 'accuracy',\n",
    "    'precision_macro': 'precision_macro',\n",
    "    'recall_macro': 'recall_macro',\n",
    "    'f1_macro': 'f1_macro'\n",
    "}\n",
    "\n",
    "def evaluate_model(model, X, y, model_name):\n",
    "    if model_name == 'XGBoost':\n",
    "        cv = StratifiedKFold(n_splits=5, shuffle=True, random_state=42)\n",
    "        accuracy_scores = []\n",
    "        precision_scores = []\n",
    "        recall_scores = []\n",
    "        f1_scores = []\n",
    "        roc_auc_scores = []\n",
    "        \n",
    "        for train_idx, test_idx in cv.split(X, y):\n",
    "            X_train, X_test = X.iloc[train_idx], X.iloc[test_idx]\n",
    "            y_train, y_test = y.iloc[train_idx], y.iloc[test_idx]\n",
    "            \n",
    "            model.fit(X_train, y_train)\n",
    "            y_pred = model.predict(X_test)\n",
    "            \n",
    "            # 对于多类别，需要设置 OneVsRest 策略生成概率\n",
    "            if len(np.unique(y)) > 2:\n",
    "                # 多类别 ROC AUC - OneVsRest 策略\n",
    "                y_proba = model.predict_proba(X_test)\n",
    "                # 多类别评估指标\n",
    "                accuracy_scores.append(accuracy_score(y_test, y_pred))\n",
    "                precision_scores.append(precision_score(y_test, y_pred, average='macro'))\n",
    "                recall_scores.append(recall_score(y_test, y_pred, average='macro'))\n",
    "                f1_scores.append(f1_score(y_test, y_pred, average='macro'))\n",
    "                # 对于多类别问题的 ROC AUC\n",
    "                roc_auc_scores.append(roc_auc_score(y_test, y_proba, multi_class='ovr'))\n",
    "            else:\n",
    "                # 二分类评估\n",
    "                y_proba = model.predict_proba(X_test)[:, 1]\n",
    "                accuracy_scores.append(accuracy_score(y_test, y_pred))\n",
    "                precision_scores.append(precision_score(y_test, y_pred))\n",
    "                recall_scores.append(recall_score(y_test, y_pred))\n",
    "                f1_scores.append(f1_score(y_test, y_pred))\n",
    "                roc_auc_scores.append(roc_auc_score(y_test, y_proba))\n",
    "        \n",
    "        return {\n",
    "            'Model': model_name,\n",
    "            'Accuracy': np.mean(accuracy_scores),\n",
    "            'Precision': np.mean(precision_scores),\n",
    "            'Recall': np.mean(recall_scores),\n",
    "            'F1 Score': np.mean(f1_scores),\n",
    "            'ROC AUC': np.mean(roc_auc_scores)\n",
    "        }\n",
    "    else:\n",
    "        # 为其他模型添加 ROC AUC 指标\n",
    "        scoring = {\n",
    "            'accuracy': 'accuracy',\n",
    "            'precision_macro': 'precision_macro',\n",
    "            'recall_macro': 'recall_macro',\n",
    "            'f1_macro': 'f1_macro',\n",
    "            'roc_auc_ovr': 'roc_auc_ovr'  # 添加多类别 ROC AUC\n",
    "        }\n",
    "        \n",
    "        cv_results = cross_validate(model, X, y, cv=5, scoring=scoring)\n",
    "        \n",
    "        results = {\n",
    "            'Model': model_name,\n",
    "            'Accuracy': cv_results['test_accuracy'].mean(),\n",
    "            'Precision': cv_results['test_precision_macro'].mean(),\n",
    "            'Recall': cv_results['test_recall_macro'].mean(),\n",
    "            'F1 Score': cv_results['test_f1_macro'].mean(),\n",
    "            'ROC AUC': cv_results['test_roc_auc_ovr'].mean()\n",
    "        }\n",
    "        \n",
    "        return results"
   ]
  },
  {
   "cell_type": "code",
   "execution_count": 45,
   "metadata": {},
   "outputs": [
    {
     "name": "stdout",
     "output_type": "stream",
     "text": [
      "Training Logistic Regression...\n",
      "Training Random Forest...\n",
      "Training XGBoost...\n"
     ]
    },
    {
     "data": {
      "application/vnd.microsoft.datawrangler.viewer.v0+json": {
       "columns": [
        {
         "name": "Model",
         "rawType": "object",
         "type": "string"
        },
        {
         "name": "Accuracy",
         "rawType": "float64",
         "type": "float"
        },
        {
         "name": "Precision",
         "rawType": "float64",
         "type": "float"
        },
        {
         "name": "Recall",
         "rawType": "float64",
         "type": "float"
        },
        {
         "name": "F1 Score",
         "rawType": "float64",
         "type": "float"
        },
        {
         "name": "ROC AUC",
         "rawType": "float64",
         "type": "float"
        }
       ],
       "conversionMethod": "pd.DataFrame",
       "ref": "990d91d6-8375-45a9-bdea-55b17cce56ff",
       "rows": [
        [
         "Logistic Regression",
         "0.6533217808784367",
         "0.6332815380251053",
         "0.6274352094047062",
         "0.6266328093965827",
         "0.8106349588131498"
        ],
        [
         "Random Forest",
         "0.6960910484617222",
         "0.6712458678160117",
         "0.6739248083098734",
         "0.6717246913942484",
         "0.8556744138708275"
        ],
        [
         "XGBoost",
         "0.7801219265423016",
         "0.7649986569589348",
         "0.7711331195061729",
         "0.7679502134445527",
         "0.9110188111186581"
        ]
       ],
       "shape": {
        "columns": 5,
        "rows": 3
       }
      },
      "text/html": [
       "<div>\n",
       "<style scoped>\n",
       "    .dataframe tbody tr th:only-of-type {\n",
       "        vertical-align: middle;\n",
       "    }\n",
       "\n",
       "    .dataframe tbody tr th {\n",
       "        vertical-align: top;\n",
       "    }\n",
       "\n",
       "    .dataframe thead th {\n",
       "        text-align: right;\n",
       "    }\n",
       "</style>\n",
       "<table border=\"1\" class=\"dataframe\">\n",
       "  <thead>\n",
       "    <tr style=\"text-align: right;\">\n",
       "      <th></th>\n",
       "      <th>Accuracy</th>\n",
       "      <th>Precision</th>\n",
       "      <th>Recall</th>\n",
       "      <th>F1 Score</th>\n",
       "      <th>ROC AUC</th>\n",
       "    </tr>\n",
       "    <tr>\n",
       "      <th>Model</th>\n",
       "      <th></th>\n",
       "      <th></th>\n",
       "      <th></th>\n",
       "      <th></th>\n",
       "      <th></th>\n",
       "    </tr>\n",
       "  </thead>\n",
       "  <tbody>\n",
       "    <tr>\n",
       "      <th>Logistic Regression</th>\n",
       "      <td>0.653322</td>\n",
       "      <td>0.633282</td>\n",
       "      <td>0.627435</td>\n",
       "      <td>0.626633</td>\n",
       "      <td>0.810635</td>\n",
       "    </tr>\n",
       "    <tr>\n",
       "      <th>Random Forest</th>\n",
       "      <td>0.696091</td>\n",
       "      <td>0.671246</td>\n",
       "      <td>0.673925</td>\n",
       "      <td>0.671725</td>\n",
       "      <td>0.855674</td>\n",
       "    </tr>\n",
       "    <tr>\n",
       "      <th>XGBoost</th>\n",
       "      <td>0.780122</td>\n",
       "      <td>0.764999</td>\n",
       "      <td>0.771133</td>\n",
       "      <td>0.767950</td>\n",
       "      <td>0.911019</td>\n",
       "    </tr>\n",
       "  </tbody>\n",
       "</table>\n",
       "</div>"
      ],
      "text/plain": [
       "                     Accuracy  Precision    Recall  F1 Score   ROC AUC\n",
       "Model                                                                 \n",
       "Logistic Regression  0.653322   0.633282  0.627435  0.626633  0.810635\n",
       "Random Forest        0.696091   0.671246  0.673925  0.671725  0.855674\n",
       "XGBoost              0.780122   0.764999  0.771133  0.767950  0.911019"
      ]
     },
     "execution_count": 45,
     "metadata": {},
     "output_type": "execute_result"
    }
   ],
   "source": [
    "# 初始化模型\n",
    "lr_model = LogisticRegression(max_iter=100000, random_state=42)\n",
    "rf_model = RandomForestClassifier(n_estimators=100, random_state=42)\n",
    "xgb_model = xgb.XGBClassifier(random_state=42)\n",
    "\n",
    "# 评估模型\n",
    "models = [\n",
    "    (lr_model, 'Logistic Regression'),\n",
    "    (rf_model, 'Random Forest'),\n",
    "    (xgb_model, 'XGBoost')\n",
    "]\n",
    "\n",
    "results = []\n",
    "for model, name in models:\n",
    "    print(f\"Training {name}...\")\n",
    "    result = evaluate_model(model, X, y, name)\n",
    "    results.append(result)\n",
    "\n",
    "# 创建结果DataFrame\n",
    "results_df = pd.DataFrame(results)\n",
    "results_df.set_index('Model', inplace=True)\n",
    "results_df"
   ]
  },
  {
   "cell_type": "code",
   "execution_count": 46,
   "metadata": {},
   "outputs": [
    {
     "data": {
      "image/png": "[encoded data removed]",
      "text/plain": [
       "<Figure size 1200x600 with 1 Axes>"
      ]
     },
     "metadata": {},
     "output_type": "display_data"
    }
   ],
   "source": [
    "# 可视化模型性能比较\n",
    "plt.figure(figsize=(12, 6))\n",
    "metrics = ['Accuracy', 'Precision', 'Recall', 'F1 Score']\n",
    "\n",
    "x = np.arange(len(models))\n",
    "width = 0.2\n",
    "\n",
    "for i, metric in enumerate(metrics):\n",
    "    plt.bar(x + i*width, results_df[metric], width, label=metric)\n",
    "\n",
    "plt.xlabel('Models')\n",
    "plt.ylabel('Score')\n",
    "plt.title('Model Performance Comparison')\n",
    "plt.xticks(x + width*1.5, results_df.index)\n",
    "plt.legend()\n",
    "plt.tight_layout()\n",
    "plt.savefig('./image/model_performance_comparison.png')\n",
    "plt.show()"
   ]
  }
 ],
 "metadata": {
  "kernelspec": {
   "display_name": "finance",
   "language": "python",
   "name": "python3"
  },
  "language_info": {
   "codemirror_mode": {
    "name": "ipython",
    "version": 3
   },
   "file_extension": ".py",
   "mimetype": "text/x-python",
   "name": "python",
   "nbconvert_exporter": "python",
   "pygments_lexer": "ipython3",
   "version": "3.12.9"
  }
 },
 "nbformat": 4,
 "nbformat_minor": 2
}

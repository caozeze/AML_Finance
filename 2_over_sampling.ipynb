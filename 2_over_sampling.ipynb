{
 "cells": [
  {
   "cell_type": "code",
   "execution_count": 22,
   "metadata": {},
   "outputs": [],
   "source": [
    "# Import Python Packages\n",
    "import pandas as pd\n",
    "import numpy as np\n",
    "import matplotlib.pyplot as plt\n",
    "import seaborn as sns\n",
    "from collections import Counter\n",
    "\n",
    "# Import Sampling Related Packages\n",
    "from imblearn.over_sampling import SMOTE\n",
    "from imblearn.over_sampling import RandomOverSampler\n",
    "from sklearn.preprocessing import LabelEncoder\n",
    "from sklearn.model_selection import train_test_split"
   ]
  },
  {
   "cell_type": "code",
   "execution_count": 23,
   "metadata": {},
   "outputs": [
    {
     "data": {
      "application/vnd.microsoft.datawrangler.viewer.v0+json": {
       "columns": [
        {
         "name": "index",
         "rawType": "int64",
         "type": "integer"
        },
        {
         "name": "month",
         "rawType": "int64",
         "type": "integer"
        },
        {
         "name": "age",
         "rawType": "float64",
         "type": "float"
        },
        {
         "name": "annual_income",
         "rawType": "float64",
         "type": "float"
        },
        {
         "name": "monthly_inhand_salary",
         "rawType": "float64",
         "type": "float"
        },
        {
         "name": "num_bank_accounts",
         "rawType": "float64",
         "type": "float"
        },
        {
         "name": "num_credit_card",
         "rawType": "float64",
         "type": "float"
        },
        {
         "name": "interest_rate",
         "rawType": "float64",
         "type": "float"
        },
        {
         "name": "num_of_loan",
         "rawType": "float64",
         "type": "float"
        },
        {
         "name": "delay_from_due_date",
         "rawType": "float64",
         "type": "float"
        },
        {
         "name": "num_of_delayed_payment",
         "rawType": "float64",
         "type": "float"
        },
        {
         "name": "changed_credit_limit",
         "rawType": "float64",
         "type": "float"
        },
        {
         "name": "num_credit_inquiries",
         "rawType": "float64",
         "type": "float"
        },
        {
         "name": "credit_mix",
         "rawType": "int64",
         "type": "integer"
        },
        {
         "name": "outstanding_debt",
         "rawType": "float64",
         "type": "float"
        },
        {
         "name": "credit_utilization_ratio",
         "rawType": "float64",
         "type": "float"
        },
        {
         "name": "payment_of_min_amount",
         "rawType": "int64",
         "type": "integer"
        },
        {
         "name": "total_emi_per_month",
         "rawType": "float64",
         "type": "float"
        },
        {
         "name": "amount_invested_monthly",
         "rawType": "float64",
         "type": "float"
        },
        {
         "name": "monthly_balance",
         "rawType": "float64",
         "type": "float"
        },
        {
         "name": "credit_score",
         "rawType": "float64",
         "type": "float"
        },
        {
         "name": "credit_history_age_in_month",
         "rawType": "float64",
         "type": "float"
        },
        {
         "name": "auto_loan",
         "rawType": "int64",
         "type": "integer"
        },
        {
         "name": "credit_builder_loan",
         "rawType": "int64",
         "type": "integer"
        },
        {
         "name": "debt_consolidation_loan",
         "rawType": "int64",
         "type": "integer"
        },
        {
         "name": "home_equity_loan",
         "rawType": "int64",
         "type": "integer"
        },
        {
         "name": "mortgage_loan",
         "rawType": "int64",
         "type": "integer"
        },
        {
         "name": "not_specified",
         "rawType": "int64",
         "type": "integer"
        },
        {
         "name": "payday_loan",
         "rawType": "int64",
         "type": "integer"
        },
        {
         "name": "personal_loan",
         "rawType": "int64",
         "type": "integer"
        },
        {
         "name": "student_loan",
         "rawType": "int64",
         "type": "integer"
        },
        {
         "name": "spending_level",
         "rawType": "int64",
         "type": "integer"
        },
        {
         "name": "payment_size",
         "rawType": "int64",
         "type": "integer"
        },
        {
         "name": "occupation_Accountant",
         "rawType": "int64",
         "type": "integer"
        },
        {
         "name": "occupation_Architect",
         "rawType": "int64",
         "type": "integer"
        },
        {
         "name": "occupation_Developer",
         "rawType": "int64",
         "type": "integer"
        },
        {
         "name": "occupation_Doctor",
         "rawType": "int64",
         "type": "integer"
        },
        {
         "name": "occupation_Engineer",
         "rawType": "int64",
         "type": "integer"
        },
        {
         "name": "occupation_Entrepreneur",
         "rawType": "int64",
         "type": "integer"
        },
        {
         "name": "occupation_Journalist",
         "rawType": "int64",
         "type": "integer"
        },
        {
         "name": "occupation_Lawyer",
         "rawType": "int64",
         "type": "integer"
        },
        {
         "name": "occupation_Manager",
         "rawType": "int64",
         "type": "integer"
        },
        {
         "name": "occupation_Mechanic",
         "rawType": "int64",
         "type": "integer"
        },
        {
         "name": "occupation_Media_Manager",
         "rawType": "int64",
         "type": "integer"
        },
        {
         "name": "occupation_Musician",
         "rawType": "int64",
         "type": "integer"
        },
        {
         "name": "occupation_Scientist",
         "rawType": "int64",
         "type": "integer"
        },
        {
         "name": "occupation_Teacher",
         "rawType": "int64",
         "type": "integer"
        },
        {
         "name": "occupation_Writer",
         "rawType": "int64",
         "type": "integer"
        }
       ],
       "conversionMethod": "pd.DataFrame",
       "ref": "1a90dc81-3cb1-4a60-b2cd-9bf46df32c11",
       "rows": [
        [
         "0",
         "0",
         "-0.9707343232745238",
         "-0.1404505767210344",
         "-0.7436606462517925",
         "-0.803324615484175",
         "-0.531223547098912",
         "-1.3140418761287371",
         "0.1699104359508299",
         "-1.2155634350943796",
         "-0.9781190427508472",
         "0.139305518434243",
         "-0.5419139372969636",
         "2",
         "-0.5334845229317702",
         "-1.0679386784463347",
         "0",
         "-0.1645624391818352",
         "-0.5293872087696779",
         "-0.4061340794983641",
         "2.0",
         "0.5744433147580893",
         "1",
         "1",
         "0",
         "1",
         "0",
         "0",
         "0",
         "1",
         "0",
         "2",
         "0",
         "0",
         "0",
         "0",
         "0",
         "0",
         "0",
         "0",
         "0",
         "0",
         "0",
         "0",
         "0",
         "1",
         "0",
         "0"
        ],
        [
         "1",
         "1",
         "-0.9707343232745238",
         "-0.1404505767210344",
         "-0.7436606462517925",
         "-0.803324615484175",
         "-0.531223547098912",
         "-1.3140418761287371",
         "0.1699104359508299",
         "-1.484740541307912",
         "-1.452452614861446",
         "0.139305518434243",
         "-0.5419139372969636",
         "2",
         "-0.5334845229317702",
         "-0.066170334950122",
         "0",
         "-0.1645624391818352",
         "-0.3342293903708857",
         "-0.5358539962807791",
         "2.0",
         "0.5744433147580893",
         "1",
         "1",
         "0",
         "1",
         "0",
         "0",
         "0",
         "1",
         "0",
         "0",
         "2",
         "0",
         "0",
         "0",
         "0",
         "0",
         "0",
         "0",
         "0",
         "0",
         "0",
         "0",
         "0",
         "1",
         "0",
         "0"
        ],
        [
         "2",
         "2",
         "-0.9707343232745238",
         "-0.1404505767210344",
         "-0.7436606462517925",
         "-0.803324615484175",
         "-0.531223547098912",
         "-1.3140418761287371",
         "0.1699104359508299",
         "-1.2155634350943796",
         "-0.9781190427508472",
         "-0.5951363111963583",
         "-0.5419139372969636",
         "2",
         "-0.5334845229317702",
         "-0.718510135213375",
         "0",
         "-0.1645624391818352",
         "-0.5227682414105269",
         "-0.3190063170761856",
         "2.0",
         "0.5744433147580893",
         "1",
         "1",
         "0",
         "1",
         "0",
         "0",
         "0",
         "1",
         "0",
         "0",
         "1",
         "0",
         "0",
         "0",
         "0",
         "0",
         "0",
         "0",
         "0",
         "0",
         "0",
         "0",
         "0",
         "1",
         "0",
         "0"
        ],
        [
         "3",
         "3",
         "-0.9707343232745238",
         "-0.1404505767210344",
         "-0.7436606462517925",
         "-0.803324615484175",
         "-0.531223547098912",
         "-1.3140418761287371",
         "0.1699104359508299",
         "-1.0809748819876135",
         "-1.452452614861446",
         "-0.5951363111963583",
         "-0.5419139372969636",
         "2",
         "-0.5334845229317702",
         "-0.1770768664013186",
         "0",
         "-0.1645624391818352",
         "0.0841655266539013",
         "-0.8206559698392397",
         "2.0",
         "0.6055835426612988",
         "1",
         "1",
         "0",
         "1",
         "0",
         "0",
         "0",
         "1",
         "0",
         "0",
         "0",
         "0",
         "0",
         "0",
         "0",
         "0",
         "0",
         "0",
         "0",
         "0",
         "0",
         "0",
         "0",
         "1",
         "0",
         "0"
        ],
        [
         "4",
         "4",
         "-0.9707343232745238",
         "-0.1404505767210344",
         "-0.7436606462517925",
         "-0.803324615484175",
         "-0.531223547098912",
         "-1.3140418761287371",
         "0.1699104359508299",
         "-1.0136806054342304",
         "-1.452452614861446",
         "0.139305518434243",
         "-0.5419139372969636",
         "2",
         "-0.5334845229317702",
         "-1.4640181893155353",
         "0",
         "-0.1645624391818352",
         "-0.7303702206701023",
         "-0.2711526541629183",
         "2.0",
         "0.6159636186290353",
         "1",
         "1",
         "0",
         "1",
         "0",
         "0",
         "0",
         "1",
         "0",
         "2",
         "1",
         "0",
         "0",
         "0",
         "0",
         "0",
         "0",
         "0",
         "0",
         "0",
         "0",
         "0",
         "0",
         "1",
         "0",
         "0"
        ]
       ],
       "shape": {
        "columns": 47,
        "rows": 5
       }
      },
      "text/html": [
       "<div>\n",
       "<style scoped>\n",
       "    .dataframe tbody tr th:only-of-type {\n",
       "        vertical-align: middle;\n",
       "    }\n",
       "\n",
       "    .dataframe tbody tr th {\n",
       "        vertical-align: top;\n",
       "    }\n",
       "\n",
       "    .dataframe thead th {\n",
       "        text-align: right;\n",
       "    }\n",
       "</style>\n",
       "<table border=\"1\" class=\"dataframe\">\n",
       "  <thead>\n",
       "    <tr style=\"text-align: right;\">\n",
       "      <th></th>\n",
       "      <th>month</th>\n",
       "      <th>age</th>\n",
       "      <th>annual_income</th>\n",
       "      <th>monthly_inhand_salary</th>\n",
       "      <th>num_bank_accounts</th>\n",
       "      <th>num_credit_card</th>\n",
       "      <th>interest_rate</th>\n",
       "      <th>num_of_loan</th>\n",
       "      <th>delay_from_due_date</th>\n",
       "      <th>num_of_delayed_payment</th>\n",
       "      <th>...</th>\n",
       "      <th>occupation_Entrepreneur</th>\n",
       "      <th>occupation_Journalist</th>\n",
       "      <th>occupation_Lawyer</th>\n",
       "      <th>occupation_Manager</th>\n",
       "      <th>occupation_Mechanic</th>\n",
       "      <th>occupation_Media_Manager</th>\n",
       "      <th>occupation_Musician</th>\n",
       "      <th>occupation_Scientist</th>\n",
       "      <th>occupation_Teacher</th>\n",
       "      <th>occupation_Writer</th>\n",
       "    </tr>\n",
       "  </thead>\n",
       "  <tbody>\n",
       "    <tr>\n",
       "      <th>0</th>\n",
       "      <td>0</td>\n",
       "      <td>-0.970734</td>\n",
       "      <td>-0.140451</td>\n",
       "      <td>-0.743661</td>\n",
       "      <td>-0.803325</td>\n",
       "      <td>-0.531224</td>\n",
       "      <td>-1.314042</td>\n",
       "      <td>0.16991</td>\n",
       "      <td>-1.215563</td>\n",
       "      <td>-0.978119</td>\n",
       "      <td>...</td>\n",
       "      <td>0</td>\n",
       "      <td>0</td>\n",
       "      <td>0</td>\n",
       "      <td>0</td>\n",
       "      <td>0</td>\n",
       "      <td>0</td>\n",
       "      <td>0</td>\n",
       "      <td>1</td>\n",
       "      <td>0</td>\n",
       "      <td>0</td>\n",
       "    </tr>\n",
       "    <tr>\n",
       "      <th>1</th>\n",
       "      <td>1</td>\n",
       "      <td>-0.970734</td>\n",
       "      <td>-0.140451</td>\n",
       "      <td>-0.743661</td>\n",
       "      <td>-0.803325</td>\n",
       "      <td>-0.531224</td>\n",
       "      <td>-1.314042</td>\n",
       "      <td>0.16991</td>\n",
       "      <td>-1.484741</td>\n",
       "      <td>-1.452453</td>\n",
       "      <td>...</td>\n",
       "      <td>0</td>\n",
       "      <td>0</td>\n",
       "      <td>0</td>\n",
       "      <td>0</td>\n",
       "      <td>0</td>\n",
       "      <td>0</td>\n",
       "      <td>0</td>\n",
       "      <td>1</td>\n",
       "      <td>0</td>\n",
       "      <td>0</td>\n",
       "    </tr>\n",
       "    <tr>\n",
       "      <th>2</th>\n",
       "      <td>2</td>\n",
       "      <td>-0.970734</td>\n",
       "      <td>-0.140451</td>\n",
       "      <td>-0.743661</td>\n",
       "      <td>-0.803325</td>\n",
       "      <td>-0.531224</td>\n",
       "      <td>-1.314042</td>\n",
       "      <td>0.16991</td>\n",
       "      <td>-1.215563</td>\n",
       "      <td>-0.978119</td>\n",
       "      <td>...</td>\n",
       "      <td>0</td>\n",
       "      <td>0</td>\n",
       "      <td>0</td>\n",
       "      <td>0</td>\n",
       "      <td>0</td>\n",
       "      <td>0</td>\n",
       "      <td>0</td>\n",
       "      <td>1</td>\n",
       "      <td>0</td>\n",
       "      <td>0</td>\n",
       "    </tr>\n",
       "    <tr>\n",
       "      <th>3</th>\n",
       "      <td>3</td>\n",
       "      <td>-0.970734</td>\n",
       "      <td>-0.140451</td>\n",
       "      <td>-0.743661</td>\n",
       "      <td>-0.803325</td>\n",
       "      <td>-0.531224</td>\n",
       "      <td>-1.314042</td>\n",
       "      <td>0.16991</td>\n",
       "      <td>-1.080975</td>\n",
       "      <td>-1.452453</td>\n",
       "      <td>...</td>\n",
       "      <td>0</td>\n",
       "      <td>0</td>\n",
       "      <td>0</td>\n",
       "      <td>0</td>\n",
       "      <td>0</td>\n",
       "      <td>0</td>\n",
       "      <td>0</td>\n",
       "      <td>1</td>\n",
       "      <td>0</td>\n",
       "      <td>0</td>\n",
       "    </tr>\n",
       "    <tr>\n",
       "      <th>4</th>\n",
       "      <td>4</td>\n",
       "      <td>-0.970734</td>\n",
       "      <td>-0.140451</td>\n",
       "      <td>-0.743661</td>\n",
       "      <td>-0.803325</td>\n",
       "      <td>-0.531224</td>\n",
       "      <td>-1.314042</td>\n",
       "      <td>0.16991</td>\n",
       "      <td>-1.013681</td>\n",
       "      <td>-1.452453</td>\n",
       "      <td>...</td>\n",
       "      <td>0</td>\n",
       "      <td>0</td>\n",
       "      <td>0</td>\n",
       "      <td>0</td>\n",
       "      <td>0</td>\n",
       "      <td>0</td>\n",
       "      <td>0</td>\n",
       "      <td>1</td>\n",
       "      <td>0</td>\n",
       "      <td>0</td>\n",
       "    </tr>\n",
       "  </tbody>\n",
       "</table>\n",
       "<p>5 rows × 47 columns</p>\n",
       "</div>"
      ],
      "text/plain": [
       "   month       age  annual_income  monthly_inhand_salary  num_bank_accounts  \\\n",
       "0      0 -0.970734      -0.140451              -0.743661          -0.803325   \n",
       "1      1 -0.970734      -0.140451              -0.743661          -0.803325   \n",
       "2      2 -0.970734      -0.140451              -0.743661          -0.803325   \n",
       "3      3 -0.970734      -0.140451              -0.743661          -0.803325   \n",
       "4      4 -0.970734      -0.140451              -0.743661          -0.803325   \n",
       "\n",
       "   num_credit_card  interest_rate  num_of_loan  delay_from_due_date  \\\n",
       "0        -0.531224      -1.314042      0.16991            -1.215563   \n",
       "1        -0.531224      -1.314042      0.16991            -1.484741   \n",
       "2        -0.531224      -1.314042      0.16991            -1.215563   \n",
       "3        -0.531224      -1.314042      0.16991            -1.080975   \n",
       "4        -0.531224      -1.314042      0.16991            -1.013681   \n",
       "\n",
       "   num_of_delayed_payment  ...  occupation_Entrepreneur  \\\n",
       "0               -0.978119  ...                        0   \n",
       "1               -1.452453  ...                        0   \n",
       "2               -0.978119  ...                        0   \n",
       "3               -1.452453  ...                        0   \n",
       "4               -1.452453  ...                        0   \n",
       "\n",
       "   occupation_Journalist  occupation_Lawyer  occupation_Manager  \\\n",
       "0                      0                  0                   0   \n",
       "1                      0                  0                   0   \n",
       "2                      0                  0                   0   \n",
       "3                      0                  0                   0   \n",
       "4                      0                  0                   0   \n",
       "\n",
       "   occupation_Mechanic  occupation_Media_Manager  occupation_Musician  \\\n",
       "0                    0                         0                    0   \n",
       "1                    0                         0                    0   \n",
       "2                    0                         0                    0   \n",
       "3                    0                         0                    0   \n",
       "4                    0                         0                    0   \n",
       "\n",
       "   occupation_Scientist  occupation_Teacher  occupation_Writer  \n",
       "0                     1                   0                  0  \n",
       "1                     1                   0                  0  \n",
       "2                     1                   0                  0  \n",
       "3                     1                   0                  0  \n",
       "4                     1                   0                  0  \n",
       "\n",
       "[5 rows x 47 columns]"
      ]
     },
     "execution_count": 23,
     "metadata": {},
     "output_type": "execute_result"
    }
   ],
   "source": [
    "# Load the Dataset (only train have target, so train should be split into new train and test)\n",
    "train_df = pd.read_csv('./data/1_clean_train.csv')\n",
    "# extract X and y\n",
    "X = train_df.drop('credit_score', axis=1)\n",
    "y = train_df['credit_score']\n",
    "train_df.head()"
   ]
  },
  {
   "cell_type": "code",
   "execution_count": null,
   "metadata": {},
   "outputs": [],
   "source": [
    "# Split the Data before Sampling, since we want to keep the test set as it is\n",
    "X_train, X_test, y_train, y_test = train_test_split(X, y, test_size=0.2, random_state=42, stratify=y)\n",
    "# Save the test set - Combined X_test and y_test\n",
    "train_df = pd.concat([X_train, y_train], axis=1)\n",
    "train_df.to_csv('./data/2_new_train.csv', index=False)\n",
    "test = pd.concat([X_test, y_test], axis=1)\n",
    "test.to_csv('./data/2_new_test.csv', index=False)"
   ]
  },
  {
   "cell_type": "code",
   "execution_count": 25,
   "metadata": {},
   "outputs": [
    {
     "data": {
      "image/png": "[encoded data removed]",
      "text/plain": [
       "<Figure size 1200x500 with 1 Axes>"
      ]
     },
     "metadata": {},
     "output_type": "display_data"
    }
   ],
   "source": [
    "train_df = pd.read_csv('./data/2_new_train.csv')\n",
    "X = train_df.drop('credit_score', axis=1)\n",
    "y = train_df['credit_score']\n",
    "\n",
    "# Check the class distribution\n",
    "plt.figure(figsize=(12, 5))\n",
    "sns.countplot(x='credit_score', data=train_df)\n",
    "plt.xticks(ticks=[0,1,2], labels=['Poor', 'Standard', 'Good'])\n",
    "plt.title('Original Class Distribution')\n",
    "# plt.savefig('./image/original_class_distribution.png')\n",
    "# plt.close()\n",
    "plt.show()"
   ]
  },
  {
   "cell_type": "markdown",
   "metadata": {},
   "source": [
    "Random Oversampling"
   ]
  },
  {
   "cell_type": "code",
   "execution_count": 26,
   "metadata": {},
   "outputs": [],
   "source": [
    "ros = RandomOverSampler(random_state=42)\n",
    "X_ros, y_ros = ros.fit_resample(X, y)\n",
    "pd.Series(y_ros).value_counts()\n",
    "\n",
    "# To CSV - Combine X and y\n",
    "ros_df = pd.concat([X_ros, y_ros], axis=1)\n",
    "ros_df.to_csv('./data/2_new_train_ros.csv', index=False)"
   ]
  },
  {
   "cell_type": "markdown",
   "metadata": {},
   "source": [
    "SMOTE Balancing"
   ]
  },
  {
   "cell_type": "code",
   "execution_count": 27,
   "metadata": {},
   "outputs": [],
   "source": [
    "# SMOTE\n",
    "smote = SMOTE(random_state=42)\n",
    "X_smote, y_smote = smote.fit_resample(X, y)\n",
    "pd.Series(y_smote).value_counts()\n",
    "\n",
    "# To CSV - Combine X and y\n",
    "smote_df = pd.concat([X_smote, y_smote], axis=1)\n",
    "smote_df.to_csv('./data/2_new_train_smote.csv', index=False)"
   ]
  },
  {
   "cell_type": "markdown",
   "metadata": {},
   "source": [
    "Visualisation"
   ]
  },
  {
   "cell_type": "code",
   "execution_count": 31,
   "metadata": {},
   "outputs": [
    {
     "data": {
      "image/png": "[encoded data removed]",
      "text/plain": [
       "<Figure size 1200x400 with 3 Axes>"
      ]
     },
     "metadata": {},
     "output_type": "display_data"
    }
   ],
   "source": [
    "plt.figure(figsize=(12, 4))\n",
    "# Before OverSampling\n",
    "plt.subplot(1, 3, 1)\n",
    "sns.countplot(x='credit_score', data=train_df)\n",
    "plt.xticks(ticks=[0,1,2], labels=['Poor', 'Standard', 'Good'])\n",
    "plt.title('Original Class Distribution')\n",
    "\n",
    "# After Random OverSampling\n",
    "plt.subplot(1, 3, 2)\n",
    "sns.countplot(x=y_ros)\n",
    "plt.xticks(ticks=[0,1,2], labels=['Poor', 'Standard', 'Good'])\n",
    "plt.title('Distribution after Random OverSampling')\n",
    "\n",
    "# After SMOTE\n",
    "plt.subplot(1, 3, 3)\n",
    "sns.countplot(x=y_smote)\n",
    "plt.xticks(ticks=[0,1,2], labels=['Poor', 'Standard', 'Good'])\n",
    "plt.title('Distribution after SMOTE')\n",
    "\n",
    "# Show the plot\n",
    "plt.tight_layout()\n",
    "plt.show()\n",
    "# plt.savefig('./image/class_distribution_comparison.png')\n",
    "# plt.close()"
   ]
  }
 ],
 "metadata": {
  "kernelspec": {
   "display_name": "finance",
   "language": "python",
   "name": "python3"
  },
  "language_info": {
   "codemirror_mode": {
    "name": "ipython",
    "version": 3
   },
   "file_extension": ".py",
   "mimetype": "text/x-python",
   "name": "python",
   "nbconvert_exporter": "python",
   "pygments_lexer": "ipython3",
   "version": "3.12.9"
  }
 },
 "nbformat": 4,
 "nbformat_minor": 2
}

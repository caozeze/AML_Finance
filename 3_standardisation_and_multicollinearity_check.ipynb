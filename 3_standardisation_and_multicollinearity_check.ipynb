{
 "cells": [
  {
   "cell_type": "code",
   "execution_count": 14,
   "metadata": {},
   "outputs": [],
   "source": [
    "# Import Python Packages\n",
    "import pandas as pd\n",
    "import numpy as np\n",
    "from statsmodels.stats.outliers_influence import variance_inflation_factor\n",
    "from sklearn.preprocessing import StandardScaler"
   ]
  },
  {
   "cell_type": "code",
   "execution_count": 19,
   "metadata": {},
   "outputs": [
    {
     "name": "stdout",
     "output_type": "stream",
     "text": [
      "Old train shape: (88872, 47), New train shape: (71097, 47), Train ROS shape: (112095, 47), Train SMOTE shape: (112095, 47), Test shape: (17775, 47)\n"
     ]
    }
   ],
   "source": [
    "data_dir = './data/'\n",
    "# Load the data\n",
    "old_train_df = pd.read_csv(data_dir + '1_clean_train.csv')\n",
    "train_df = pd.read_csv(data_dir + '2_new_train.csv')\n",
    "train_ros_df = pd.read_csv(data_dir + '2_new_train_ros.csv')\n",
    "train_smote_df = pd.read_csv(data_dir + '2_new_train_smote.csv')\n",
    "test_df = pd.read_csv(data_dir + '2_new_test.csv')\n",
    "print(f\"Old train shape: {old_train_df.shape}, New train shape: {train_df.shape}, \"\n",
    "      f\"Train ROS shape: {train_ros_df.shape}, Train SMOTE shape: {train_smote_df.shape}, \"\n",
    "      f\"Test shape: {test_df.shape}\")"
   ]
  },
  {
   "cell_type": "code",
   "execution_count": 16,
   "metadata": {},
   "outputs": [],
   "source": [
    "def standardise_continuous_features(df):\n",
    "    continuous_columns = ['age', 'annual_income', 'monthly_inhand_salary',\n",
    "       'num_bank_accounts', 'num_credit_card', 'interest_rate', 'num_of_loan',\n",
    "       'delay_from_due_date', 'num_of_delayed_payment', 'changed_credit_limit',\n",
    "       'num_credit_inquiries', 'outstanding_debt', 'credit_utilization_ratio',\n",
    "       'total_emi_per_month', 'amount_invested_monthly', 'monthly_balance',\n",
    "       'credit_history_age_in_month']\n",
    "    scaled_cont_df = pd.DataFrame(StandardScaler().fit_transform(df[continuous_columns]),\n",
    "                                  columns=continuous_columns,\n",
    "                                  index=df.index)\n",
    "    df[continuous_columns] = scaled_cont_df\n",
    "    return df\n",
    "\n",
    "def multicollinearity_check(df, threshold=12):\n",
    "    \"\"\"\n",
    "    Function to check for multicollinearity in the dataset.\n",
    "    \"\"\"\n",
    "    # Calculate VIF\n",
    "    vif_data = pd.DataFrame()\n",
    "    vif_data[\"Feature\"] = df.columns\n",
    "    vif_data[\"VIF\"] = [variance_inflation_factor(df.values, i) \n",
    "                       for i in range(df.shape[1])]\n",
    "    # Sort VIF data\n",
    "    vif_data = vif_data.sort_values('VIF', ascending=False)\n",
    "    \n",
    "    # Filter features with VIF > threshold\n",
    "    high_vif = vif_data[vif_data[\"VIF\"] > threshold]\n",
    "    \n",
    "    return high_vif"
   ]
  },
  {
   "cell_type": "code",
   "execution_count": 17,
   "metadata": {},
   "outputs": [
    {
     "name": "stdout",
     "output_type": "stream",
     "text": [
      "High VIF features in old_train_df:\n",
      "Empty DataFrame\n",
      "Columns: [Feature, VIF]\n",
      "Index: []\n",
      "High VIF features in train_df:\n",
      "Empty DataFrame\n",
      "Columns: [Feature, VIF]\n",
      "Index: []\n",
      "High VIF features in train_ros_df:\n",
      "Empty DataFrame\n",
      "Columns: [Feature, VIF]\n",
      "Index: []\n",
      "High VIF features in train_smote_df:\n",
      "Empty DataFrame\n",
      "Columns: [Feature, VIF]\n",
      "Index: []\n",
      "High VIF features in test_df:\n",
      "Empty DataFrame\n",
      "Columns: [Feature, VIF]\n",
      "Index: []\n"
     ]
    }
   ],
   "source": [
    "# Standardise continuous features\n",
    "old_train_df = standardise_continuous_features(old_train_df)\n",
    "train_df = standardise_continuous_features(train_df)\n",
    "train_ros_df = standardise_continuous_features(train_ros_df)\n",
    "train_smote_df = standardise_continuous_features(train_smote_df)\n",
    "test_df = standardise_continuous_features(test_df)\n",
    "\n",
    "# Check for multicollinearity\n",
    "high_vif_old_train = multicollinearity_check(old_train_df)\n",
    "high_vif_train = multicollinearity_check(train_df)\n",
    "high_vif_train_ros = multicollinearity_check(train_ros_df)\n",
    "high_vif_train_smote = multicollinearity_check(train_smote_df)\n",
    "high_vif_test = multicollinearity_check(test_df)\n",
    "\n",
    "# Print the results\n",
    "print(\"High VIF features in old_train_df:\")\n",
    "print(high_vif_old_train)\n",
    "print(\"High VIF features in train_df:\")\n",
    "print(high_vif_train)\n",
    "print(\"High VIF features in train_ros_df:\")\n",
    "print(high_vif_train_ros)\n",
    "print(\"High VIF features in train_smote_df:\")\n",
    "print(high_vif_train_smote)\n",
    "print(\"High VIF features in test_df:\")\n",
    "print(high_vif_test)"
   ]
  },
  {
   "cell_type": "code",
   "execution_count": 18,
   "metadata": {},
   "outputs": [],
   "source": [
    "# Save the processed data\n",
    "old_train_df.to_csv(data_dir + '3_old_train_processed.csv', index=False)\n",
    "train_df.to_csv(data_dir + '3_train_processed.csv', index=False)\n",
    "train_ros_df.to_csv(data_dir + '3_train_ros_processed.csv', index=False)\n",
    "train_smote_df.to_csv(data_dir + '3_train_smote_processed.csv', index=False)\n",
    "test_df.to_csv(data_dir + '3_test_processed.csv', index=False)"
   ]
  }
 ],
 "metadata": {
  "kernelspec": {
   "display_name": "finance",
   "language": "python",
   "name": "python3"
  },
  "language_info": {
   "codemirror_mode": {
    "name": "ipython",
    "version": 3
   },
   "file_extension": ".py",
   "mimetype": "text/x-python",
   "name": "python",
   "nbconvert_exporter": "python",
   "pygments_lexer": "ipython3",
   "version": "3.12.9"
  }
 },
 "nbformat": 4,
 "nbformat_minor": 2
}
